{
 "cells": [
  {
   "cell_type": "code",
   "execution_count": 17,
   "id": "9f4e3e71",
   "metadata": {},
   "outputs": [],
   "source": [
    "import pandas as pd\n",
    "weather = pd.read_csv(\"3545870.csv\", index_col=\"DATE\")"
   ]
  },
  {
   "cell_type": "code",
   "execution_count": 18,
   "id": "97fd52bd",
   "metadata": {},
   "outputs": [
    {
     "data": {
      "text/html": [
       "<div>\n",
       "<style scoped>\n",
       "    .dataframe tbody tr th:only-of-type {\n",
       "        vertical-align: middle;\n",
       "    }\n",
       "\n",
       "    .dataframe tbody tr th {\n",
       "        vertical-align: top;\n",
       "    }\n",
       "\n",
       "    .dataframe thead th {\n",
       "        text-align: right;\n",
       "    }\n",
       "</style>\n",
       "<table border=\"1\" class=\"dataframe\">\n",
       "  <thead>\n",
       "    <tr style=\"text-align: right;\">\n",
       "      <th></th>\n",
       "      <th>STATION</th>\n",
       "      <th>NAME</th>\n",
       "      <th>PRCP</th>\n",
       "      <th>TAVG</th>\n",
       "      <th>TMAX</th>\n",
       "      <th>TMIN</th>\n",
       "    </tr>\n",
       "    <tr>\n",
       "      <th>DATE</th>\n",
       "      <th></th>\n",
       "      <th></th>\n",
       "      <th></th>\n",
       "      <th></th>\n",
       "      <th></th>\n",
       "      <th></th>\n",
       "    </tr>\n",
       "  </thead>\n",
       "  <tbody>\n",
       "    <tr>\n",
       "      <th>2000-01-01</th>\n",
       "      <td>IN001080500</td>\n",
       "      <td>BEGUMPET OBSERVATORY, IN</td>\n",
       "      <td>0.0</td>\n",
       "      <td>71</td>\n",
       "      <td>82.0</td>\n",
       "      <td>60.0</td>\n",
       "    </tr>\n",
       "    <tr>\n",
       "      <th>2000-01-02</th>\n",
       "      <td>IN001080500</td>\n",
       "      <td>BEGUMPET OBSERVATORY, IN</td>\n",
       "      <td>0.0</td>\n",
       "      <td>68</td>\n",
       "      <td>81.0</td>\n",
       "      <td>NaN</td>\n",
       "    </tr>\n",
       "    <tr>\n",
       "      <th>2000-01-03</th>\n",
       "      <td>IN001080500</td>\n",
       "      <td>BEGUMPET OBSERVATORY, IN</td>\n",
       "      <td>0.0</td>\n",
       "      <td>67</td>\n",
       "      <td>83.0</td>\n",
       "      <td>NaN</td>\n",
       "    </tr>\n",
       "    <tr>\n",
       "      <th>2000-01-04</th>\n",
       "      <td>IN001080500</td>\n",
       "      <td>BEGUMPET OBSERVATORY, IN</td>\n",
       "      <td>0.0</td>\n",
       "      <td>69</td>\n",
       "      <td>83.0</td>\n",
       "      <td>53.0</td>\n",
       "    </tr>\n",
       "    <tr>\n",
       "      <th>2000-01-05</th>\n",
       "      <td>IN001080500</td>\n",
       "      <td>BEGUMPET OBSERVATORY, IN</td>\n",
       "      <td>0.0</td>\n",
       "      <td>69</td>\n",
       "      <td>83.0</td>\n",
       "      <td>55.0</td>\n",
       "    </tr>\n",
       "    <tr>\n",
       "      <th>...</th>\n",
       "      <td>...</td>\n",
       "      <td>...</td>\n",
       "      <td>...</td>\n",
       "      <td>...</td>\n",
       "      <td>...</td>\n",
       "      <td>...</td>\n",
       "    </tr>\n",
       "    <tr>\n",
       "      <th>2022-12-27</th>\n",
       "      <td>IN001080500</td>\n",
       "      <td>BEGUMPET OBSERVATORY, IN</td>\n",
       "      <td>NaN</td>\n",
       "      <td>79</td>\n",
       "      <td>NaN</td>\n",
       "      <td>70.0</td>\n",
       "    </tr>\n",
       "    <tr>\n",
       "      <th>2022-12-28</th>\n",
       "      <td>IN001080500</td>\n",
       "      <td>BEGUMPET OBSERVATORY, IN</td>\n",
       "      <td>NaN</td>\n",
       "      <td>80</td>\n",
       "      <td>91.0</td>\n",
       "      <td>70.0</td>\n",
       "    </tr>\n",
       "    <tr>\n",
       "      <th>2022-12-29</th>\n",
       "      <td>IN001080500</td>\n",
       "      <td>BEGUMPET OBSERVATORY, IN</td>\n",
       "      <td>NaN</td>\n",
       "      <td>79</td>\n",
       "      <td>92.0</td>\n",
       "      <td>NaN</td>\n",
       "    </tr>\n",
       "    <tr>\n",
       "      <th>2022-12-30</th>\n",
       "      <td>IN001080500</td>\n",
       "      <td>BEGUMPET OBSERVATORY, IN</td>\n",
       "      <td>NaN</td>\n",
       "      <td>77</td>\n",
       "      <td>90.0</td>\n",
       "      <td>NaN</td>\n",
       "    </tr>\n",
       "    <tr>\n",
       "      <th>2022-12-31</th>\n",
       "      <td>IN001080500</td>\n",
       "      <td>BEGUMPET OBSERVATORY, IN</td>\n",
       "      <td>NaN</td>\n",
       "      <td>78</td>\n",
       "      <td>89.0</td>\n",
       "      <td>NaN</td>\n",
       "    </tr>\n",
       "  </tbody>\n",
       "</table>\n",
       "<p>8396 rows × 6 columns</p>\n",
       "</div>"
      ],
      "text/plain": [
       "                STATION                      NAME  PRCP  TAVG  TMAX  TMIN\n",
       "DATE                                                                     \n",
       "2000-01-01  IN001080500  BEGUMPET OBSERVATORY, IN   0.0    71  82.0  60.0\n",
       "2000-01-02  IN001080500  BEGUMPET OBSERVATORY, IN   0.0    68  81.0   NaN\n",
       "2000-01-03  IN001080500  BEGUMPET OBSERVATORY, IN   0.0    67  83.0   NaN\n",
       "2000-01-04  IN001080500  BEGUMPET OBSERVATORY, IN   0.0    69  83.0  53.0\n",
       "2000-01-05  IN001080500  BEGUMPET OBSERVATORY, IN   0.0    69  83.0  55.0\n",
       "...                 ...                       ...   ...   ...   ...   ...\n",
       "2022-12-27  IN001080500  BEGUMPET OBSERVATORY, IN   NaN    79   NaN  70.0\n",
       "2022-12-28  IN001080500  BEGUMPET OBSERVATORY, IN   NaN    80  91.0  70.0\n",
       "2022-12-29  IN001080500  BEGUMPET OBSERVATORY, IN   NaN    79  92.0   NaN\n",
       "2022-12-30  IN001080500  BEGUMPET OBSERVATORY, IN   NaN    77  90.0   NaN\n",
       "2022-12-31  IN001080500  BEGUMPET OBSERVATORY, IN   NaN    78  89.0   NaN\n",
       "\n",
       "[8396 rows x 6 columns]"
      ]
     },
     "execution_count": 18,
     "metadata": {},
     "output_type": "execute_result"
    }
   ],
   "source": [
    "weather"
   ]
  },
  {
   "cell_type": "code",
   "execution_count": 19,
   "id": "56aac47d",
   "metadata": {},
   "outputs": [
    {
     "data": {
      "text/plain": [
       "STATION    0.000000\n",
       "NAME       0.000000\n",
       "PRCP       0.608623\n",
       "TAVG       0.000000\n",
       "TMAX       0.225703\n",
       "TMIN       0.348499\n",
       "dtype: float64"
      ]
     },
     "execution_count": 19,
     "metadata": {},
     "output_type": "execute_result"
    }
   ],
   "source": [
    "weather.apply(pd.isnull).sum()/weather.shape[0]"
   ]
  },
  {
   "cell_type": "code",
   "execution_count": 20,
   "id": "cac45ff0",
   "metadata": {},
   "outputs": [],
   "source": [
    "core_weather = weather[[\"PRCP\", \"TAVG\", \"TMAX\", \"TMIN\"]].copy()\n",
    "core_weather.columns = [\"precip\", \"temp_avg\", \"temp_max\", \"temp_min\"]"
   ]
  },
  {
   "cell_type": "code",
   "execution_count": 21,
   "id": "965258c1",
   "metadata": {},
   "outputs": [
    {
     "data": {
      "text/plain": [
       "precip      5110\n",
       "temp_avg       0\n",
       "temp_max    1895\n",
       "temp_min    2926\n",
       "dtype: int64"
      ]
     },
     "execution_count": 21,
     "metadata": {},
     "output_type": "execute_result"
    }
   ],
   "source": [
    "core_weather.apply(pd.isnull).sum()"
   ]
  },
  {
   "cell_type": "code",
   "execution_count": 23,
   "id": "15240874",
   "metadata": {},
   "outputs": [
    {
     "data": {
      "text/html": [
       "<div>\n",
       "<style scoped>\n",
       "    .dataframe tbody tr th:only-of-type {\n",
       "        vertical-align: middle;\n",
       "    }\n",
       "\n",
       "    .dataframe tbody tr th {\n",
       "        vertical-align: top;\n",
       "    }\n",
       "\n",
       "    .dataframe thead th {\n",
       "        text-align: right;\n",
       "    }\n",
       "</style>\n",
       "<table border=\"1\" class=\"dataframe\">\n",
       "  <thead>\n",
       "    <tr style=\"text-align: right;\">\n",
       "      <th></th>\n",
       "      <th>precip</th>\n",
       "      <th>temp_avg</th>\n",
       "      <th>temp_max</th>\n",
       "      <th>temp_min</th>\n",
       "    </tr>\n",
       "    <tr>\n",
       "      <th>DATE</th>\n",
       "      <th></th>\n",
       "      <th></th>\n",
       "      <th></th>\n",
       "      <th></th>\n",
       "    </tr>\n",
       "  </thead>\n",
       "  <tbody>\n",
       "    <tr>\n",
       "      <th>2000-01-14</th>\n",
       "      <td>NaN</td>\n",
       "      <td>78</td>\n",
       "      <td>90.0</td>\n",
       "      <td>64.0</td>\n",
       "    </tr>\n",
       "    <tr>\n",
       "      <th>2000-01-15</th>\n",
       "      <td>NaN</td>\n",
       "      <td>76</td>\n",
       "      <td>91.0</td>\n",
       "      <td>NaN</td>\n",
       "    </tr>\n",
       "    <tr>\n",
       "      <th>2000-01-16</th>\n",
       "      <td>NaN</td>\n",
       "      <td>76</td>\n",
       "      <td>88.0</td>\n",
       "      <td>66.0</td>\n",
       "    </tr>\n",
       "    <tr>\n",
       "      <th>2000-01-17</th>\n",
       "      <td>NaN</td>\n",
       "      <td>76</td>\n",
       "      <td>NaN</td>\n",
       "      <td>NaN</td>\n",
       "    </tr>\n",
       "    <tr>\n",
       "      <th>2000-01-18</th>\n",
       "      <td>NaN</td>\n",
       "      <td>74</td>\n",
       "      <td>90.0</td>\n",
       "      <td>61.0</td>\n",
       "    </tr>\n",
       "    <tr>\n",
       "      <th>...</th>\n",
       "      <td>...</td>\n",
       "      <td>...</td>\n",
       "      <td>...</td>\n",
       "      <td>...</td>\n",
       "    </tr>\n",
       "    <tr>\n",
       "      <th>2022-12-27</th>\n",
       "      <td>NaN</td>\n",
       "      <td>79</td>\n",
       "      <td>NaN</td>\n",
       "      <td>70.0</td>\n",
       "    </tr>\n",
       "    <tr>\n",
       "      <th>2022-12-28</th>\n",
       "      <td>NaN</td>\n",
       "      <td>80</td>\n",
       "      <td>91.0</td>\n",
       "      <td>70.0</td>\n",
       "    </tr>\n",
       "    <tr>\n",
       "      <th>2022-12-29</th>\n",
       "      <td>NaN</td>\n",
       "      <td>79</td>\n",
       "      <td>92.0</td>\n",
       "      <td>NaN</td>\n",
       "    </tr>\n",
       "    <tr>\n",
       "      <th>2022-12-30</th>\n",
       "      <td>NaN</td>\n",
       "      <td>77</td>\n",
       "      <td>90.0</td>\n",
       "      <td>NaN</td>\n",
       "    </tr>\n",
       "    <tr>\n",
       "      <th>2022-12-31</th>\n",
       "      <td>NaN</td>\n",
       "      <td>78</td>\n",
       "      <td>89.0</td>\n",
       "      <td>NaN</td>\n",
       "    </tr>\n",
       "  </tbody>\n",
       "</table>\n",
       "<p>5110 rows × 4 columns</p>\n",
       "</div>"
      ],
      "text/plain": [
       "            precip  temp_avg  temp_max  temp_min\n",
       "DATE                                            \n",
       "2000-01-14     NaN        78      90.0      64.0\n",
       "2000-01-15     NaN        76      91.0       NaN\n",
       "2000-01-16     NaN        76      88.0      66.0\n",
       "2000-01-17     NaN        76       NaN       NaN\n",
       "2000-01-18     NaN        74      90.0      61.0\n",
       "...            ...       ...       ...       ...\n",
       "2022-12-27     NaN        79       NaN      70.0\n",
       "2022-12-28     NaN        80      91.0      70.0\n",
       "2022-12-29     NaN        79      92.0       NaN\n",
       "2022-12-30     NaN        77      90.0       NaN\n",
       "2022-12-31     NaN        78      89.0       NaN\n",
       "\n",
       "[5110 rows x 4 columns]"
      ]
     },
     "execution_count": 23,
     "metadata": {},
     "output_type": "execute_result"
    }
   ],
   "source": [
    "core_weather[pd.isnull(core_weather[\"precip\"])]"
   ]
  },
  {
   "cell_type": "code",
   "execution_count": 24,
   "id": "4b72a7d2",
   "metadata": {},
   "outputs": [
    {
     "data": {
      "text/plain": [
       "precip       NaN\n",
       "temp_avg    72.0\n",
       "temp_max    87.0\n",
       "temp_min    53.0\n",
       "Name: 2013-12-15, dtype: float64"
      ]
     },
     "execution_count": 24,
     "metadata": {},
     "output_type": "execute_result"
    }
   ],
   "source": [
    "core_weather.loc[\"2013-12-15\",:]"
   ]
  },
  {
   "cell_type": "code",
   "execution_count": 25,
   "id": "bc698dbd",
   "metadata": {},
   "outputs": [
    {
     "data": {
      "text/plain": [
       "precip\n",
       "0.00    0.202120\n",
       "0.08    0.017985\n",
       "0.04    0.017627\n",
       "0.02    0.017270\n",
       "0.01    0.016556\n",
       "          ...   \n",
       "3.78    0.000119\n",
       "0.26    0.000119\n",
       "2.68    0.000119\n",
       "4.80    0.000119\n",
       "2.48    0.000119\n",
       "Name: count, Length: 98, dtype: float64"
      ]
     },
     "execution_count": 25,
     "metadata": {},
     "output_type": "execute_result"
    }
   ],
   "source": [
    "core_weather[\"precip\"].value_counts() / core_weather.shape[0]"
   ]
  },
  {
   "cell_type": "code",
   "execution_count": 26,
   "id": "d8c9aa02",
   "metadata": {},
   "outputs": [],
   "source": [
    "core_weather[\"precip\"] = core_weather[\"precip\"].fillna(0)"
   ]
  },
  {
   "cell_type": "code",
   "execution_count": 27,
   "id": "2feb7da9",
   "metadata": {},
   "outputs": [
    {
     "data": {
      "text/plain": [
       "precip         0\n",
       "temp_avg       0\n",
       "temp_max    1895\n",
       "temp_min    2926\n",
       "dtype: int64"
      ]
     },
     "execution_count": 27,
     "metadata": {},
     "output_type": "execute_result"
    }
   ],
   "source": [
    "core_weather.apply(pd.isnull).sum()"
   ]
  },
  {
   "cell_type": "code",
   "execution_count": 28,
   "id": "9737fb89",
   "metadata": {},
   "outputs": [
    {
     "data": {
      "text/html": [
       "<div>\n",
       "<style scoped>\n",
       "    .dataframe tbody tr th:only-of-type {\n",
       "        vertical-align: middle;\n",
       "    }\n",
       "\n",
       "    .dataframe tbody tr th {\n",
       "        vertical-align: top;\n",
       "    }\n",
       "\n",
       "    .dataframe thead th {\n",
       "        text-align: right;\n",
       "    }\n",
       "</style>\n",
       "<table border=\"1\" class=\"dataframe\">\n",
       "  <thead>\n",
       "    <tr style=\"text-align: right;\">\n",
       "      <th></th>\n",
       "      <th>precip</th>\n",
       "      <th>temp_avg</th>\n",
       "      <th>temp_max</th>\n",
       "      <th>temp_min</th>\n",
       "    </tr>\n",
       "    <tr>\n",
       "      <th>DATE</th>\n",
       "      <th></th>\n",
       "      <th></th>\n",
       "      <th></th>\n",
       "      <th></th>\n",
       "    </tr>\n",
       "  </thead>\n",
       "  <tbody>\n",
       "    <tr>\n",
       "      <th>2000-01-02</th>\n",
       "      <td>0.0</td>\n",
       "      <td>68</td>\n",
       "      <td>81.0</td>\n",
       "      <td>NaN</td>\n",
       "    </tr>\n",
       "    <tr>\n",
       "      <th>2000-01-03</th>\n",
       "      <td>0.0</td>\n",
       "      <td>67</td>\n",
       "      <td>83.0</td>\n",
       "      <td>NaN</td>\n",
       "    </tr>\n",
       "    <tr>\n",
       "      <th>2000-01-15</th>\n",
       "      <td>0.0</td>\n",
       "      <td>76</td>\n",
       "      <td>91.0</td>\n",
       "      <td>NaN</td>\n",
       "    </tr>\n",
       "    <tr>\n",
       "      <th>2000-01-17</th>\n",
       "      <td>0.0</td>\n",
       "      <td>76</td>\n",
       "      <td>NaN</td>\n",
       "      <td>NaN</td>\n",
       "    </tr>\n",
       "    <tr>\n",
       "      <th>2000-01-26</th>\n",
       "      <td>0.0</td>\n",
       "      <td>75</td>\n",
       "      <td>85.0</td>\n",
       "      <td>NaN</td>\n",
       "    </tr>\n",
       "    <tr>\n",
       "      <th>...</th>\n",
       "      <td>...</td>\n",
       "      <td>...</td>\n",
       "      <td>...</td>\n",
       "      <td>...</td>\n",
       "    </tr>\n",
       "    <tr>\n",
       "      <th>2022-12-23</th>\n",
       "      <td>0.0</td>\n",
       "      <td>75</td>\n",
       "      <td>NaN</td>\n",
       "      <td>NaN</td>\n",
       "    </tr>\n",
       "    <tr>\n",
       "      <th>2022-12-25</th>\n",
       "      <td>0.0</td>\n",
       "      <td>76</td>\n",
       "      <td>87.0</td>\n",
       "      <td>NaN</td>\n",
       "    </tr>\n",
       "    <tr>\n",
       "      <th>2022-12-29</th>\n",
       "      <td>0.0</td>\n",
       "      <td>79</td>\n",
       "      <td>92.0</td>\n",
       "      <td>NaN</td>\n",
       "    </tr>\n",
       "    <tr>\n",
       "      <th>2022-12-30</th>\n",
       "      <td>0.0</td>\n",
       "      <td>77</td>\n",
       "      <td>90.0</td>\n",
       "      <td>NaN</td>\n",
       "    </tr>\n",
       "    <tr>\n",
       "      <th>2022-12-31</th>\n",
       "      <td>0.0</td>\n",
       "      <td>78</td>\n",
       "      <td>89.0</td>\n",
       "      <td>NaN</td>\n",
       "    </tr>\n",
       "  </tbody>\n",
       "</table>\n",
       "<p>2926 rows × 4 columns</p>\n",
       "</div>"
      ],
      "text/plain": [
       "            precip  temp_avg  temp_max  temp_min\n",
       "DATE                                            \n",
       "2000-01-02     0.0        68      81.0       NaN\n",
       "2000-01-03     0.0        67      83.0       NaN\n",
       "2000-01-15     0.0        76      91.0       NaN\n",
       "2000-01-17     0.0        76       NaN       NaN\n",
       "2000-01-26     0.0        75      85.0       NaN\n",
       "...            ...       ...       ...       ...\n",
       "2022-12-23     0.0        75       NaN       NaN\n",
       "2022-12-25     0.0        76      87.0       NaN\n",
       "2022-12-29     0.0        79      92.0       NaN\n",
       "2022-12-30     0.0        77      90.0       NaN\n",
       "2022-12-31     0.0        78      89.0       NaN\n",
       "\n",
       "[2926 rows x 4 columns]"
      ]
     },
     "execution_count": 28,
     "metadata": {},
     "output_type": "execute_result"
    }
   ],
   "source": [
    "core_weather[pd.isnull(core_weather[\"temp_min\"])]"
   ]
  },
  {
   "cell_type": "code",
   "execution_count": 29,
   "id": "a998c297",
   "metadata": {},
   "outputs": [
    {
     "data": {
      "text/html": [
       "<div>\n",
       "<style scoped>\n",
       "    .dataframe tbody tr th:only-of-type {\n",
       "        vertical-align: middle;\n",
       "    }\n",
       "\n",
       "    .dataframe tbody tr th {\n",
       "        vertical-align: top;\n",
       "    }\n",
       "\n",
       "    .dataframe thead th {\n",
       "        text-align: right;\n",
       "    }\n",
       "</style>\n",
       "<table border=\"1\" class=\"dataframe\">\n",
       "  <thead>\n",
       "    <tr style=\"text-align: right;\">\n",
       "      <th></th>\n",
       "      <th>precip</th>\n",
       "      <th>temp_avg</th>\n",
       "      <th>temp_max</th>\n",
       "      <th>temp_min</th>\n",
       "    </tr>\n",
       "    <tr>\n",
       "      <th>DATE</th>\n",
       "      <th></th>\n",
       "      <th></th>\n",
       "      <th></th>\n",
       "      <th></th>\n",
       "    </tr>\n",
       "  </thead>\n",
       "  <tbody>\n",
       "    <tr>\n",
       "      <th>2011-12-18</th>\n",
       "      <td>0.0</td>\n",
       "      <td>73</td>\n",
       "      <td>86.0</td>\n",
       "      <td>58.0</td>\n",
       "    </tr>\n",
       "    <tr>\n",
       "      <th>2011-12-19</th>\n",
       "      <td>0.0</td>\n",
       "      <td>73</td>\n",
       "      <td>86.0</td>\n",
       "      <td>59.0</td>\n",
       "    </tr>\n",
       "    <tr>\n",
       "      <th>2011-12-20</th>\n",
       "      <td>0.0</td>\n",
       "      <td>74</td>\n",
       "      <td>86.0</td>\n",
       "      <td>58.0</td>\n",
       "    </tr>\n",
       "    <tr>\n",
       "      <th>2011-12-21</th>\n",
       "      <td>0.0</td>\n",
       "      <td>72</td>\n",
       "      <td>86.0</td>\n",
       "      <td>56.0</td>\n",
       "    </tr>\n",
       "    <tr>\n",
       "      <th>2011-12-22</th>\n",
       "      <td>0.0</td>\n",
       "      <td>73</td>\n",
       "      <td>85.0</td>\n",
       "      <td>55.0</td>\n",
       "    </tr>\n",
       "    <tr>\n",
       "      <th>2011-12-23</th>\n",
       "      <td>0.0</td>\n",
       "      <td>72</td>\n",
       "      <td>85.0</td>\n",
       "      <td>NaN</td>\n",
       "    </tr>\n",
       "    <tr>\n",
       "      <th>2011-12-24</th>\n",
       "      <td>0.0</td>\n",
       "      <td>74</td>\n",
       "      <td>87.0</td>\n",
       "      <td>56.0</td>\n",
       "    </tr>\n",
       "    <tr>\n",
       "      <th>2011-12-25</th>\n",
       "      <td>0.0</td>\n",
       "      <td>72</td>\n",
       "      <td>89.0</td>\n",
       "      <td>54.0</td>\n",
       "    </tr>\n",
       "    <tr>\n",
       "      <th>2011-12-26</th>\n",
       "      <td>0.0</td>\n",
       "      <td>75</td>\n",
       "      <td>89.0</td>\n",
       "      <td>54.0</td>\n",
       "    </tr>\n",
       "    <tr>\n",
       "      <th>2011-12-27</th>\n",
       "      <td>0.0</td>\n",
       "      <td>73</td>\n",
       "      <td>89.0</td>\n",
       "      <td>54.0</td>\n",
       "    </tr>\n",
       "    <tr>\n",
       "      <th>2011-12-28</th>\n",
       "      <td>0.0</td>\n",
       "      <td>75</td>\n",
       "      <td>89.0</td>\n",
       "      <td>57.0</td>\n",
       "    </tr>\n",
       "  </tbody>\n",
       "</table>\n",
       "</div>"
      ],
      "text/plain": [
       "            precip  temp_avg  temp_max  temp_min\n",
       "DATE                                            \n",
       "2011-12-18     0.0        73      86.0      58.0\n",
       "2011-12-19     0.0        73      86.0      59.0\n",
       "2011-12-20     0.0        74      86.0      58.0\n",
       "2011-12-21     0.0        72      86.0      56.0\n",
       "2011-12-22     0.0        73      85.0      55.0\n",
       "2011-12-23     0.0        72      85.0       NaN\n",
       "2011-12-24     0.0        74      87.0      56.0\n",
       "2011-12-25     0.0        72      89.0      54.0\n",
       "2011-12-26     0.0        75      89.0      54.0\n",
       "2011-12-27     0.0        73      89.0      54.0\n",
       "2011-12-28     0.0        75      89.0      57.0"
      ]
     },
     "execution_count": 29,
     "metadata": {},
     "output_type": "execute_result"
    }
   ],
   "source": [
    "core_weather.loc[\"2011-12-18\":\"2011-12-28\"]"
   ]
  },
  {
   "cell_type": "code",
   "execution_count": 30,
   "id": "6e6d6953",
   "metadata": {},
   "outputs": [],
   "source": [
    "core_weather = core_weather.fillna(method=\"ffill\")"
   ]
  },
  {
   "cell_type": "code",
   "execution_count": 31,
   "id": "5e20c813",
   "metadata": {},
   "outputs": [
    {
     "data": {
      "text/plain": [
       "precip      0\n",
       "temp_avg    0\n",
       "temp_max    0\n",
       "temp_min    0\n",
       "dtype: int64"
      ]
     },
     "execution_count": 31,
     "metadata": {},
     "output_type": "execute_result"
    }
   ],
   "source": [
    "core_weather.apply(pd.isnull).sum()"
   ]
  },
  {
   "cell_type": "code",
   "execution_count": 32,
   "id": "5ca73b2d",
   "metadata": {},
   "outputs": [
    {
     "data": {
      "text/plain": [
       "precip      0\n",
       "temp_avg    0\n",
       "temp_max    0\n",
       "temp_min    0\n",
       "dtype: int64"
      ]
     },
     "execution_count": 32,
     "metadata": {},
     "output_type": "execute_result"
    }
   ],
   "source": [
    "# Check for missing value defined in data documentation\n",
    "core_weather.apply(lambda x: (x == 9999).sum())"
   ]
  },
  {
   "cell_type": "code",
   "execution_count": 33,
   "id": "f42a8698",
   "metadata": {},
   "outputs": [
    {
     "data": {
      "text/plain": [
       "precip      float64\n",
       "temp_avg      int64\n",
       "temp_max    float64\n",
       "temp_min    float64\n",
       "dtype: object"
      ]
     },
     "execution_count": 33,
     "metadata": {},
     "output_type": "execute_result"
    }
   ],
   "source": [
    "core_weather.dtypes"
   ]
  },
  {
   "cell_type": "code",
   "execution_count": 34,
   "id": "3a7b16d3",
   "metadata": {},
   "outputs": [
    {
     "data": {
      "text/plain": [
       "Index(['2000-01-01', '2000-01-02', '2000-01-03', '2000-01-04', '2000-01-05',\n",
       "       '2000-01-06', '2000-01-07', '2000-01-08', '2000-01-09', '2000-01-10',\n",
       "       ...\n",
       "       '2022-12-22', '2022-12-23', '2022-12-24', '2022-12-25', '2022-12-26',\n",
       "       '2022-12-27', '2022-12-28', '2022-12-29', '2022-12-30', '2022-12-31'],\n",
       "      dtype='object', name='DATE', length=8396)"
      ]
     },
     "execution_count": 34,
     "metadata": {},
     "output_type": "execute_result"
    }
   ],
   "source": [
    "core_weather.index"
   ]
  },
  {
   "cell_type": "code",
   "execution_count": 35,
   "id": "f579665d",
   "metadata": {},
   "outputs": [],
   "source": [
    "core_weather.index = pd.to_datetime(core_weather.index)"
   ]
  },
  {
   "cell_type": "code",
   "execution_count": 36,
   "id": "a6160009",
   "metadata": {},
   "outputs": [
    {
     "data": {
      "text/plain": [
       "DatetimeIndex(['2000-01-01', '2000-01-02', '2000-01-03', '2000-01-04',\n",
       "               '2000-01-05', '2000-01-06', '2000-01-07', '2000-01-08',\n",
       "               '2000-01-09', '2000-01-10',\n",
       "               ...\n",
       "               '2022-12-22', '2022-12-23', '2022-12-24', '2022-12-25',\n",
       "               '2022-12-26', '2022-12-27', '2022-12-28', '2022-12-29',\n",
       "               '2022-12-30', '2022-12-31'],\n",
       "              dtype='datetime64[ns]', name='DATE', length=8396, freq=None)"
      ]
     },
     "execution_count": 36,
     "metadata": {},
     "output_type": "execute_result"
    }
   ],
   "source": [
    "core_weather.index"
   ]
  },
  {
   "cell_type": "code",
   "execution_count": 37,
   "id": "19c1c287",
   "metadata": {},
   "outputs": [
    {
     "data": {
      "text/plain": [
       "Index([2000, 2000, 2000, 2000, 2000, 2000, 2000, 2000, 2000, 2000,\n",
       "       ...\n",
       "       2022, 2022, 2022, 2022, 2022, 2022, 2022, 2022, 2022, 2022],\n",
       "      dtype='int32', name='DATE', length=8396)"
      ]
     },
     "execution_count": 37,
     "metadata": {},
     "output_type": "execute_result"
    }
   ],
   "source": [
    "core_weather.index.year"
   ]
  },
  {
   "cell_type": "code",
   "execution_count": 38,
   "id": "067b405b",
   "metadata": {},
   "outputs": [
    {
     "data": {
      "text/plain": [
       "<Axes: xlabel='DATE'>"
      ]
     },
     "execution_count": 38,
     "metadata": {},
     "output_type": "execute_result"
    },
    {
     "data": {
      "image/png": "[encoded data removed]",
      "text/plain": [
       "<Figure size 640x480 with 1 Axes>"
      ]
     },
     "metadata": {},
     "output_type": "display_data"
    }
   ],
   "source": [
    "core_weather[[\"temp_max\", \"temp_min\"]].plot()"
   ]
  },
  {
   "cell_type": "code",
   "execution_count": 39,
   "id": "c2a2d6f9",
   "metadata": {},
   "outputs": [
    {
     "data": {
      "text/plain": [
       "DATE\n",
       "2000    366\n",
       "2001    365\n",
       "2002    364\n",
       "2003    364\n",
       "2004    366\n",
       "2005    365\n",
       "2006    365\n",
       "2007    365\n",
       "2008    366\n",
       "2009    365\n",
       "2010    365\n",
       "2011    365\n",
       "2012    366\n",
       "2013    365\n",
       "2014    365\n",
       "2015    365\n",
       "2016    366\n",
       "2017    365\n",
       "2018    365\n",
       "2019    365\n",
       "2020    366\n",
       "2021    362\n",
       "2022    365\n",
       "Name: count, dtype: int64"
      ]
     },
     "execution_count": 39,
     "metadata": {},
     "output_type": "execute_result"
    }
   ],
   "source": [
    "core_weather.index.year.value_counts().sort_index()"
   ]
  },
  {
   "cell_type": "code",
   "execution_count": 40,
   "id": "7a27cb80",
   "metadata": {},
   "outputs": [
    {
     "data": {
      "text/plain": [
       "<Axes: xlabel='DATE'>"
      ]
     },
     "execution_count": 40,
     "metadata": {},
     "output_type": "execute_result"
    },
    {
     "data": {
      "image/png": "[encoded data removed]",
      "text/plain": [
       "<Figure size 640x480 with 1 Axes>"
      ]
     },
     "metadata": {},
     "output_type": "display_data"
    }
   ],
   "source": [
    "core_weather[\"precip\"].plot()"
   ]
  },
  {
   "cell_type": "code",
   "execution_count": 41,
   "id": "11434d7b",
   "metadata": {},
   "outputs": [
    {
     "data": {
      "text/plain": [
       "<Axes: xlabel='DATE'>"
      ]
     },
     "execution_count": 41,
     "metadata": {},
     "output_type": "execute_result"
    },
    {
     "data": {
      "image/png": "[encoded data removed]",
      "text/plain": [
       "<Figure size 640x480 with 1 Axes>"
      ]
     },
     "metadata": {},
     "output_type": "display_data"
    }
   ],
   "source": [
    "core_weather.groupby(core_weather.index.year).apply(lambda x: x[\"precip\"].sum()).plot()"
   ]
  },
  {
   "cell_type": "code",
   "execution_count": 42,
   "id": "b1068f42",
   "metadata": {},
   "outputs": [],
   "source": [
    "core_weather[\"target\"] = core_weather.shift(-1)[\"temp_max\"]"
   ]
  },
  {
   "cell_type": "code",
   "execution_count": 43,
   "id": "4b466ca2",
   "metadata": {},
   "outputs": [
    {
     "data": {
      "text/html": [
       "<div>\n",
       "<style scoped>\n",
       "    .dataframe tbody tr th:only-of-type {\n",
       "        vertical-align: middle;\n",
       "    }\n",
       "\n",
       "    .dataframe tbody tr th {\n",
       "        vertical-align: top;\n",
       "    }\n",
       "\n",
       "    .dataframe thead th {\n",
       "        text-align: right;\n",
       "    }\n",
       "</style>\n",
       "<table border=\"1\" class=\"dataframe\">\n",
       "  <thead>\n",
       "    <tr style=\"text-align: right;\">\n",
       "      <th></th>\n",
       "      <th>precip</th>\n",
       "      <th>temp_avg</th>\n",
       "      <th>temp_max</th>\n",
       "      <th>temp_min</th>\n",
       "      <th>target</th>\n",
       "    </tr>\n",
       "    <tr>\n",
       "      <th>DATE</th>\n",
       "      <th></th>\n",
       "      <th></th>\n",
       "      <th></th>\n",
       "      <th></th>\n",
       "      <th></th>\n",
       "    </tr>\n",
       "  </thead>\n",
       "  <tbody>\n",
       "    <tr>\n",
       "      <th>2000-01-01</th>\n",
       "      <td>0.0</td>\n",
       "      <td>71</td>\n",
       "      <td>82.0</td>\n",
       "      <td>60.0</td>\n",
       "      <td>81.0</td>\n",
       "    </tr>\n",
       "    <tr>\n",
       "      <th>2000-01-02</th>\n",
       "      <td>0.0</td>\n",
       "      <td>68</td>\n",
       "      <td>81.0</td>\n",
       "      <td>60.0</td>\n",
       "      <td>83.0</td>\n",
       "    </tr>\n",
       "    <tr>\n",
       "      <th>2000-01-03</th>\n",
       "      <td>0.0</td>\n",
       "      <td>67</td>\n",
       "      <td>83.0</td>\n",
       "      <td>60.0</td>\n",
       "      <td>83.0</td>\n",
       "    </tr>\n",
       "    <tr>\n",
       "      <th>2000-01-04</th>\n",
       "      <td>0.0</td>\n",
       "      <td>69</td>\n",
       "      <td>83.0</td>\n",
       "      <td>53.0</td>\n",
       "      <td>83.0</td>\n",
       "    </tr>\n",
       "    <tr>\n",
       "      <th>2000-01-05</th>\n",
       "      <td>0.0</td>\n",
       "      <td>69</td>\n",
       "      <td>83.0</td>\n",
       "      <td>55.0</td>\n",
       "      <td>83.0</td>\n",
       "    </tr>\n",
       "    <tr>\n",
       "      <th>...</th>\n",
       "      <td>...</td>\n",
       "      <td>...</td>\n",
       "      <td>...</td>\n",
       "      <td>...</td>\n",
       "      <td>...</td>\n",
       "    </tr>\n",
       "    <tr>\n",
       "      <th>2022-12-27</th>\n",
       "      <td>0.0</td>\n",
       "      <td>79</td>\n",
       "      <td>86.0</td>\n",
       "      <td>70.0</td>\n",
       "      <td>91.0</td>\n",
       "    </tr>\n",
       "    <tr>\n",
       "      <th>2022-12-28</th>\n",
       "      <td>0.0</td>\n",
       "      <td>80</td>\n",
       "      <td>91.0</td>\n",
       "      <td>70.0</td>\n",
       "      <td>92.0</td>\n",
       "    </tr>\n",
       "    <tr>\n",
       "      <th>2022-12-29</th>\n",
       "      <td>0.0</td>\n",
       "      <td>79</td>\n",
       "      <td>92.0</td>\n",
       "      <td>70.0</td>\n",
       "      <td>90.0</td>\n",
       "    </tr>\n",
       "    <tr>\n",
       "      <th>2022-12-30</th>\n",
       "      <td>0.0</td>\n",
       "      <td>77</td>\n",
       "      <td>90.0</td>\n",
       "      <td>70.0</td>\n",
       "      <td>89.0</td>\n",
       "    </tr>\n",
       "    <tr>\n",
       "      <th>2022-12-31</th>\n",
       "      <td>0.0</td>\n",
       "      <td>78</td>\n",
       "      <td>89.0</td>\n",
       "      <td>70.0</td>\n",
       "      <td>NaN</td>\n",
       "    </tr>\n",
       "  </tbody>\n",
       "</table>\n",
       "<p>8396 rows × 5 columns</p>\n",
       "</div>"
      ],
      "text/plain": [
       "            precip  temp_avg  temp_max  temp_min  target\n",
       "DATE                                                    \n",
       "2000-01-01     0.0        71      82.0      60.0    81.0\n",
       "2000-01-02     0.0        68      81.0      60.0    83.0\n",
       "2000-01-03     0.0        67      83.0      60.0    83.0\n",
       "2000-01-04     0.0        69      83.0      53.0    83.0\n",
       "2000-01-05     0.0        69      83.0      55.0    83.0\n",
       "...            ...       ...       ...       ...     ...\n",
       "2022-12-27     0.0        79      86.0      70.0    91.0\n",
       "2022-12-28     0.0        80      91.0      70.0    92.0\n",
       "2022-12-29     0.0        79      92.0      70.0    90.0\n",
       "2022-12-30     0.0        77      90.0      70.0    89.0\n",
       "2022-12-31     0.0        78      89.0      70.0     NaN\n",
       "\n",
       "[8396 rows x 5 columns]"
      ]
     },
     "execution_count": 43,
     "metadata": {},
     "output_type": "execute_result"
    }
   ],
   "source": [
    "core_weather"
   ]
  },
  {
   "cell_type": "code",
   "execution_count": 44,
   "id": "4341e3ab",
   "metadata": {},
   "outputs": [],
   "source": [
    "core_weather = core_weather.iloc[:-1,:].copy()"
   ]
  },
  {
   "cell_type": "code",
   "execution_count": 45,
   "id": "6e0b7047",
   "metadata": {},
   "outputs": [
    {
     "data": {
      "text/html": [
       "<div>\n",
       "<style scoped>\n",
       "    .dataframe tbody tr th:only-of-type {\n",
       "        vertical-align: middle;\n",
       "    }\n",
       "\n",
       "    .dataframe tbody tr th {\n",
       "        vertical-align: top;\n",
       "    }\n",
       "\n",
       "    .dataframe thead th {\n",
       "        text-align: right;\n",
       "    }\n",
       "</style>\n",
       "<table border=\"1\" class=\"dataframe\">\n",
       "  <thead>\n",
       "    <tr style=\"text-align: right;\">\n",
       "      <th></th>\n",
       "      <th>precip</th>\n",
       "      <th>temp_avg</th>\n",
       "      <th>temp_max</th>\n",
       "      <th>temp_min</th>\n",
       "      <th>target</th>\n",
       "    </tr>\n",
       "    <tr>\n",
       "      <th>DATE</th>\n",
       "      <th></th>\n",
       "      <th></th>\n",
       "      <th></th>\n",
       "      <th></th>\n",
       "      <th></th>\n",
       "    </tr>\n",
       "  </thead>\n",
       "  <tbody>\n",
       "    <tr>\n",
       "      <th>2000-01-01</th>\n",
       "      <td>0.0</td>\n",
       "      <td>71</td>\n",
       "      <td>82.0</td>\n",
       "      <td>60.0</td>\n",
       "      <td>81.0</td>\n",
       "    </tr>\n",
       "    <tr>\n",
       "      <th>2000-01-02</th>\n",
       "      <td>0.0</td>\n",
       "      <td>68</td>\n",
       "      <td>81.0</td>\n",
       "      <td>60.0</td>\n",
       "      <td>83.0</td>\n",
       "    </tr>\n",
       "    <tr>\n",
       "      <th>2000-01-03</th>\n",
       "      <td>0.0</td>\n",
       "      <td>67</td>\n",
       "      <td>83.0</td>\n",
       "      <td>60.0</td>\n",
       "      <td>83.0</td>\n",
       "    </tr>\n",
       "    <tr>\n",
       "      <th>2000-01-04</th>\n",
       "      <td>0.0</td>\n",
       "      <td>69</td>\n",
       "      <td>83.0</td>\n",
       "      <td>53.0</td>\n",
       "      <td>83.0</td>\n",
       "    </tr>\n",
       "    <tr>\n",
       "      <th>2000-01-05</th>\n",
       "      <td>0.0</td>\n",
       "      <td>69</td>\n",
       "      <td>83.0</td>\n",
       "      <td>55.0</td>\n",
       "      <td>83.0</td>\n",
       "    </tr>\n",
       "    <tr>\n",
       "      <th>...</th>\n",
       "      <td>...</td>\n",
       "      <td>...</td>\n",
       "      <td>...</td>\n",
       "      <td>...</td>\n",
       "      <td>...</td>\n",
       "    </tr>\n",
       "    <tr>\n",
       "      <th>2022-12-26</th>\n",
       "      <td>0.0</td>\n",
       "      <td>76</td>\n",
       "      <td>86.0</td>\n",
       "      <td>70.0</td>\n",
       "      <td>86.0</td>\n",
       "    </tr>\n",
       "    <tr>\n",
       "      <th>2022-12-27</th>\n",
       "      <td>0.0</td>\n",
       "      <td>79</td>\n",
       "      <td>86.0</td>\n",
       "      <td>70.0</td>\n",
       "      <td>91.0</td>\n",
       "    </tr>\n",
       "    <tr>\n",
       "      <th>2022-12-28</th>\n",
       "      <td>0.0</td>\n",
       "      <td>80</td>\n",
       "      <td>91.0</td>\n",
       "      <td>70.0</td>\n",
       "      <td>92.0</td>\n",
       "    </tr>\n",
       "    <tr>\n",
       "      <th>2022-12-29</th>\n",
       "      <td>0.0</td>\n",
       "      <td>79</td>\n",
       "      <td>92.0</td>\n",
       "      <td>70.0</td>\n",
       "      <td>90.0</td>\n",
       "    </tr>\n",
       "    <tr>\n",
       "      <th>2022-12-30</th>\n",
       "      <td>0.0</td>\n",
       "      <td>77</td>\n",
       "      <td>90.0</td>\n",
       "      <td>70.0</td>\n",
       "      <td>89.0</td>\n",
       "    </tr>\n",
       "  </tbody>\n",
       "</table>\n",
       "<p>8395 rows × 5 columns</p>\n",
       "</div>"
      ],
      "text/plain": [
       "            precip  temp_avg  temp_max  temp_min  target\n",
       "DATE                                                    \n",
       "2000-01-01     0.0        71      82.0      60.0    81.0\n",
       "2000-01-02     0.0        68      81.0      60.0    83.0\n",
       "2000-01-03     0.0        67      83.0      60.0    83.0\n",
       "2000-01-04     0.0        69      83.0      53.0    83.0\n",
       "2000-01-05     0.0        69      83.0      55.0    83.0\n",
       "...            ...       ...       ...       ...     ...\n",
       "2022-12-26     0.0        76      86.0      70.0    86.0\n",
       "2022-12-27     0.0        79      86.0      70.0    91.0\n",
       "2022-12-28     0.0        80      91.0      70.0    92.0\n",
       "2022-12-29     0.0        79      92.0      70.0    90.0\n",
       "2022-12-30     0.0        77      90.0      70.0    89.0\n",
       "\n",
       "[8395 rows x 5 columns]"
      ]
     },
     "execution_count": 45,
     "metadata": {},
     "output_type": "execute_result"
    }
   ],
   "source": [
    "core_weather"
   ]
  },
  {
   "cell_type": "code",
   "execution_count": 46,
   "id": "abdf8444",
   "metadata": {},
   "outputs": [],
   "source": [
    "from sklearn.linear_model import Ridge\n",
    "reg = Ridge(alpha=.1)"
   ]
  },
  {
   "cell_type": "code",
   "execution_count": 47,
   "id": "5b7572ba",
   "metadata": {},
   "outputs": [],
   "source": [
    "predictors = [\"precip\", \"temp_max\", \"temp_min\"]"
   ]
  },
  {
   "cell_type": "code",
   "execution_count": 48,
   "id": "c835be51",
   "metadata": {},
   "outputs": [],
   "source": [
    "train = core_weather.loc[:\"2020-12-31\"]"
   ]
  },
  {
   "cell_type": "code",
   "execution_count": 49,
   "id": "b50ae273",
   "metadata": {},
   "outputs": [],
   "source": [
    "test = core_weather.loc[\"2021-01-01\":]"
   ]
  },
  {
   "cell_type": "code",
   "execution_count": 50,
   "id": "de15e389",
   "metadata": {},
   "outputs": [
    {
     "data": {
      "text/html": [
       "<div>\n",
       "<style scoped>\n",
       "    .dataframe tbody tr th:only-of-type {\n",
       "        vertical-align: middle;\n",
       "    }\n",
       "\n",
       "    .dataframe tbody tr th {\n",
       "        vertical-align: top;\n",
       "    }\n",
       "\n",
       "    .dataframe thead th {\n",
       "        text-align: right;\n",
       "    }\n",
       "</style>\n",
       "<table border=\"1\" class=\"dataframe\">\n",
       "  <thead>\n",
       "    <tr style=\"text-align: right;\">\n",
       "      <th></th>\n",
       "      <th>precip</th>\n",
       "      <th>temp_avg</th>\n",
       "      <th>temp_max</th>\n",
       "      <th>temp_min</th>\n",
       "      <th>target</th>\n",
       "    </tr>\n",
       "    <tr>\n",
       "      <th>DATE</th>\n",
       "      <th></th>\n",
       "      <th></th>\n",
       "      <th></th>\n",
       "      <th></th>\n",
       "      <th></th>\n",
       "    </tr>\n",
       "  </thead>\n",
       "  <tbody>\n",
       "    <tr>\n",
       "      <th>2000-01-01</th>\n",
       "      <td>0.0</td>\n",
       "      <td>71</td>\n",
       "      <td>82.0</td>\n",
       "      <td>60.0</td>\n",
       "      <td>81.0</td>\n",
       "    </tr>\n",
       "    <tr>\n",
       "      <th>2000-01-02</th>\n",
       "      <td>0.0</td>\n",
       "      <td>68</td>\n",
       "      <td>81.0</td>\n",
       "      <td>60.0</td>\n",
       "      <td>83.0</td>\n",
       "    </tr>\n",
       "    <tr>\n",
       "      <th>2000-01-03</th>\n",
       "      <td>0.0</td>\n",
       "      <td>67</td>\n",
       "      <td>83.0</td>\n",
       "      <td>60.0</td>\n",
       "      <td>83.0</td>\n",
       "    </tr>\n",
       "    <tr>\n",
       "      <th>2000-01-04</th>\n",
       "      <td>0.0</td>\n",
       "      <td>69</td>\n",
       "      <td>83.0</td>\n",
       "      <td>53.0</td>\n",
       "      <td>83.0</td>\n",
       "    </tr>\n",
       "    <tr>\n",
       "      <th>2000-01-05</th>\n",
       "      <td>0.0</td>\n",
       "      <td>69</td>\n",
       "      <td>83.0</td>\n",
       "      <td>55.0</td>\n",
       "      <td>83.0</td>\n",
       "    </tr>\n",
       "    <tr>\n",
       "      <th>...</th>\n",
       "      <td>...</td>\n",
       "      <td>...</td>\n",
       "      <td>...</td>\n",
       "      <td>...</td>\n",
       "      <td>...</td>\n",
       "    </tr>\n",
       "    <tr>\n",
       "      <th>2020-12-27</th>\n",
       "      <td>0.0</td>\n",
       "      <td>70</td>\n",
       "      <td>83.0</td>\n",
       "      <td>58.0</td>\n",
       "      <td>88.0</td>\n",
       "    </tr>\n",
       "    <tr>\n",
       "      <th>2020-12-28</th>\n",
       "      <td>0.0</td>\n",
       "      <td>71</td>\n",
       "      <td>88.0</td>\n",
       "      <td>58.0</td>\n",
       "      <td>85.0</td>\n",
       "    </tr>\n",
       "    <tr>\n",
       "      <th>2020-12-29</th>\n",
       "      <td>0.0</td>\n",
       "      <td>71</td>\n",
       "      <td>85.0</td>\n",
       "      <td>58.0</td>\n",
       "      <td>83.0</td>\n",
       "    </tr>\n",
       "    <tr>\n",
       "      <th>2020-12-30</th>\n",
       "      <td>0.0</td>\n",
       "      <td>71</td>\n",
       "      <td>83.0</td>\n",
       "      <td>58.0</td>\n",
       "      <td>82.0</td>\n",
       "    </tr>\n",
       "    <tr>\n",
       "      <th>2020-12-31</th>\n",
       "      <td>0.0</td>\n",
       "      <td>71</td>\n",
       "      <td>82.0</td>\n",
       "      <td>58.0</td>\n",
       "      <td>80.0</td>\n",
       "    </tr>\n",
       "  </tbody>\n",
       "</table>\n",
       "<p>7669 rows × 5 columns</p>\n",
       "</div>"
      ],
      "text/plain": [
       "            precip  temp_avg  temp_max  temp_min  target\n",
       "DATE                                                    \n",
       "2000-01-01     0.0        71      82.0      60.0    81.0\n",
       "2000-01-02     0.0        68      81.0      60.0    83.0\n",
       "2000-01-03     0.0        67      83.0      60.0    83.0\n",
       "2000-01-04     0.0        69      83.0      53.0    83.0\n",
       "2000-01-05     0.0        69      83.0      55.0    83.0\n",
       "...            ...       ...       ...       ...     ...\n",
       "2020-12-27     0.0        70      83.0      58.0    88.0\n",
       "2020-12-28     0.0        71      88.0      58.0    85.0\n",
       "2020-12-29     0.0        71      85.0      58.0    83.0\n",
       "2020-12-30     0.0        71      83.0      58.0    82.0\n",
       "2020-12-31     0.0        71      82.0      58.0    80.0\n",
       "\n",
       "[7669 rows x 5 columns]"
      ]
     },
     "execution_count": 50,
     "metadata": {},
     "output_type": "execute_result"
    }
   ],
   "source": [
    "train"
   ]
  },
  {
   "cell_type": "code",
   "execution_count": 51,
   "id": "297dbf4f",
   "metadata": {},
   "outputs": [
    {
     "data": {
      "text/html": [
       "<div>\n",
       "<style scoped>\n",
       "    .dataframe tbody tr th:only-of-type {\n",
       "        vertical-align: middle;\n",
       "    }\n",
       "\n",
       "    .dataframe tbody tr th {\n",
       "        vertical-align: top;\n",
       "    }\n",
       "\n",
       "    .dataframe thead th {\n",
       "        text-align: right;\n",
       "    }\n",
       "</style>\n",
       "<table border=\"1\" class=\"dataframe\">\n",
       "  <thead>\n",
       "    <tr style=\"text-align: right;\">\n",
       "      <th></th>\n",
       "      <th>precip</th>\n",
       "      <th>temp_avg</th>\n",
       "      <th>temp_max</th>\n",
       "      <th>temp_min</th>\n",
       "      <th>target</th>\n",
       "    </tr>\n",
       "    <tr>\n",
       "      <th>DATE</th>\n",
       "      <th></th>\n",
       "      <th></th>\n",
       "      <th></th>\n",
       "      <th></th>\n",
       "      <th></th>\n",
       "    </tr>\n",
       "  </thead>\n",
       "  <tbody>\n",
       "    <tr>\n",
       "      <th>2021-01-01</th>\n",
       "      <td>0.0</td>\n",
       "      <td>70</td>\n",
       "      <td>80.0</td>\n",
       "      <td>58.0</td>\n",
       "      <td>80.0</td>\n",
       "    </tr>\n",
       "    <tr>\n",
       "      <th>2021-01-02</th>\n",
       "      <td>0.0</td>\n",
       "      <td>71</td>\n",
       "      <td>80.0</td>\n",
       "      <td>62.0</td>\n",
       "      <td>82.0</td>\n",
       "    </tr>\n",
       "    <tr>\n",
       "      <th>2021-01-03</th>\n",
       "      <td>0.0</td>\n",
       "      <td>72</td>\n",
       "      <td>82.0</td>\n",
       "      <td>62.0</td>\n",
       "      <td>82.0</td>\n",
       "    </tr>\n",
       "    <tr>\n",
       "      <th>2021-01-04</th>\n",
       "      <td>0.0</td>\n",
       "      <td>72</td>\n",
       "      <td>82.0</td>\n",
       "      <td>64.0</td>\n",
       "      <td>82.0</td>\n",
       "    </tr>\n",
       "    <tr>\n",
       "      <th>2021-01-05</th>\n",
       "      <td>0.0</td>\n",
       "      <td>76</td>\n",
       "      <td>82.0</td>\n",
       "      <td>66.0</td>\n",
       "      <td>86.0</td>\n",
       "    </tr>\n",
       "    <tr>\n",
       "      <th>...</th>\n",
       "      <td>...</td>\n",
       "      <td>...</td>\n",
       "      <td>...</td>\n",
       "      <td>...</td>\n",
       "      <td>...</td>\n",
       "    </tr>\n",
       "    <tr>\n",
       "      <th>2022-12-26</th>\n",
       "      <td>0.0</td>\n",
       "      <td>76</td>\n",
       "      <td>86.0</td>\n",
       "      <td>70.0</td>\n",
       "      <td>86.0</td>\n",
       "    </tr>\n",
       "    <tr>\n",
       "      <th>2022-12-27</th>\n",
       "      <td>0.0</td>\n",
       "      <td>79</td>\n",
       "      <td>86.0</td>\n",
       "      <td>70.0</td>\n",
       "      <td>91.0</td>\n",
       "    </tr>\n",
       "    <tr>\n",
       "      <th>2022-12-28</th>\n",
       "      <td>0.0</td>\n",
       "      <td>80</td>\n",
       "      <td>91.0</td>\n",
       "      <td>70.0</td>\n",
       "      <td>92.0</td>\n",
       "    </tr>\n",
       "    <tr>\n",
       "      <th>2022-12-29</th>\n",
       "      <td>0.0</td>\n",
       "      <td>79</td>\n",
       "      <td>92.0</td>\n",
       "      <td>70.0</td>\n",
       "      <td>90.0</td>\n",
       "    </tr>\n",
       "    <tr>\n",
       "      <th>2022-12-30</th>\n",
       "      <td>0.0</td>\n",
       "      <td>77</td>\n",
       "      <td>90.0</td>\n",
       "      <td>70.0</td>\n",
       "      <td>89.0</td>\n",
       "    </tr>\n",
       "  </tbody>\n",
       "</table>\n",
       "<p>726 rows × 5 columns</p>\n",
       "</div>"
      ],
      "text/plain": [
       "            precip  temp_avg  temp_max  temp_min  target\n",
       "DATE                                                    \n",
       "2021-01-01     0.0        70      80.0      58.0    80.0\n",
       "2021-01-02     0.0        71      80.0      62.0    82.0\n",
       "2021-01-03     0.0        72      82.0      62.0    82.0\n",
       "2021-01-04     0.0        72      82.0      64.0    82.0\n",
       "2021-01-05     0.0        76      82.0      66.0    86.0\n",
       "...            ...       ...       ...       ...     ...\n",
       "2022-12-26     0.0        76      86.0      70.0    86.0\n",
       "2022-12-27     0.0        79      86.0      70.0    91.0\n",
       "2022-12-28     0.0        80      91.0      70.0    92.0\n",
       "2022-12-29     0.0        79      92.0      70.0    90.0\n",
       "2022-12-30     0.0        77      90.0      70.0    89.0\n",
       "\n",
       "[726 rows x 5 columns]"
      ]
     },
     "execution_count": 51,
     "metadata": {},
     "output_type": "execute_result"
    }
   ],
   "source": [
    "test"
   ]
  },
  {
   "cell_type": "code",
   "execution_count": 52,
   "id": "a58dced2",
   "metadata": {},
   "outputs": [
    {
     "data": {
      "text/html": [
       "<style>#sk-container-id-1 {color: black;}#sk-container-id-1 pre{padding: 0;}#sk-container-id-1 div.sk-toggleable {background-color: white;}#sk-container-id-1 label.sk-toggleable__label {cursor: pointer;display: block;width: 100%;margin-bottom: 0;padding: 0.3em;box-sizing: border-box;text-align: center;}#sk-container-id-1 label.sk-toggleable__label-arrow:before {content: \"▸\";float: left;margin-right: 0.25em;color: #696969;}#sk-container-id-1 label.sk-toggleable__label-arrow:hover:before {color: black;}#sk-container-id-1 div.sk-estimator:hover label.sk-toggleable__label-arrow:before {color: black;}#sk-container-id-1 div.sk-toggleable__content {max-height: 0;max-width: 0;overflow: hidden;text-align: left;background-color: #f0f8ff;}#sk-container-id-1 div.sk-toggleable__content pre {margin: 0.2em;color: black;border-radius: 0.25em;background-color: #f0f8ff;}#sk-container-id-1 input.sk-toggleable__control:checked~div.sk-toggleable__content {max-height: 200px;max-width: 100%;overflow: auto;}#sk-container-id-1 input.sk-toggleable__control:checked~label.sk-toggleable__label-arrow:before {content: \"▾\";}#sk-container-id-1 div.sk-estimator input.sk-toggleable__control:checked~label.sk-toggleable__label {background-color: #d4ebff;}#sk-container-id-1 div.sk-label input.sk-toggleable__control:checked~label.sk-toggleable__label {background-color: #d4ebff;}#sk-container-id-1 input.sk-hidden--visually {border: 0;clip: rect(1px 1px 1px 1px);clip: rect(1px, 1px, 1px, 1px);height: 1px;margin: -1px;overflow: hidden;padding: 0;position: absolute;width: 1px;}#sk-container-id-1 div.sk-estimator {font-family: monospace;background-color: #f0f8ff;border: 1px dotted black;border-radius: 0.25em;box-sizing: border-box;margin-bottom: 0.5em;}#sk-container-id-1 div.sk-estimator:hover {background-color: #d4ebff;}#sk-container-id-1 div.sk-parallel-item::after {content: \"\";width: 100%;border-bottom: 1px solid gray;flex-grow: 1;}#sk-container-id-1 div.sk-label:hover label.sk-toggleable__label {background-color: #d4ebff;}#sk-container-id-1 div.sk-serial::before {content: \"\";position: absolute;border-left: 1px solid gray;box-sizing: border-box;top: 0;bottom: 0;left: 50%;z-index: 0;}#sk-container-id-1 div.sk-serial {display: flex;flex-direction: column;align-items: center;background-color: white;padding-right: 0.2em;padding-left: 0.2em;position: relative;}#sk-container-id-1 div.sk-item {position: relative;z-index: 1;}#sk-container-id-1 div.sk-parallel {display: flex;align-items: stretch;justify-content: center;background-color: white;position: relative;}#sk-container-id-1 div.sk-item::before, #sk-container-id-1 div.sk-parallel-item::before {content: \"\";position: absolute;border-left: 1px solid gray;box-sizing: border-box;top: 0;bottom: 0;left: 50%;z-index: -1;}#sk-container-id-1 div.sk-parallel-item {display: flex;flex-direction: column;z-index: 1;position: relative;background-color: white;}#sk-container-id-1 div.sk-parallel-item:first-child::after {align-self: flex-end;width: 50%;}#sk-container-id-1 div.sk-parallel-item:last-child::after {align-self: flex-start;width: 50%;}#sk-container-id-1 div.sk-parallel-item:only-child::after {width: 0;}#sk-container-id-1 div.sk-dashed-wrapped {border: 1px dashed gray;margin: 0 0.4em 0.5em 0.4em;box-sizing: border-box;padding-bottom: 0.4em;background-color: white;}#sk-container-id-1 div.sk-label label {font-family: monospace;font-weight: bold;display: inline-block;line-height: 1.2em;}#sk-container-id-1 div.sk-label-container {text-align: center;}#sk-container-id-1 div.sk-container {/* jupyter's `normalize.less` sets `[hidden] { display: none; }` but bootstrap.min.css set `[hidden] { display: none !important; }` so we also need the `!important` here to be able to override the default hidden behavior on the sphinx rendered scikit-learn.org. See: https://github.com/scikit-learn/scikit-learn/issues/21755 */display: inline-block !important;position: relative;}#sk-container-id-1 div.sk-text-repr-fallback {display: none;}</style><div id=\"sk-container-id-1\" class=\"sk-top-container\"><div class=\"sk-text-repr-fallback\"><pre>Ridge(alpha=0.1)</pre><b>In a Jupyter environment, please rerun this cell to show the HTML representation or trust the notebook. <br />On GitHub, the HTML representation is unable to render, please try loading this page with nbviewer.org.</b></div><div class=\"sk-container\" hidden><div class=\"sk-item\"><div class=\"sk-estimator sk-toggleable\"><input class=\"sk-toggleable__control sk-hidden--visually\" id=\"sk-estimator-id-1\" type=\"checkbox\" checked><label for=\"sk-estimator-id-1\" class=\"sk-toggleable__label sk-toggleable__label-arrow\">Ridge</label><div class=\"sk-toggleable__content\"><pre>Ridge(alpha=0.1)</pre></div></div></div></div></div>"
      ],
      "text/plain": [
       "Ridge(alpha=0.1)"
      ]
     },
     "execution_count": 52,
     "metadata": {},
     "output_type": "execute_result"
    }
   ],
   "source": [
    "reg.fit(train[predictors], train[\"target\"])"
   ]
  },
  {
   "cell_type": "code",
   "execution_count": 53,
   "id": "17370f35",
   "metadata": {},
   "outputs": [],
   "source": [
    "predictions = reg.predict(test[predictors])"
   ]
  },
  {
   "cell_type": "code",
   "execution_count": 54,
   "id": "a185bf5b",
   "metadata": {},
   "outputs": [
    {
     "data": {
      "text/plain": [
       "5.067171518222241"
      ]
     },
     "execution_count": 54,
     "metadata": {},
     "output_type": "execute_result"
    }
   ],
   "source": [
    "from sklearn.metrics import mean_squared_error\n",
    "mean_squared_error(test[\"target\"], predictions)"
   ]
  },
  {
   "cell_type": "code",
   "execution_count": 55,
   "id": "9ae55522",
   "metadata": {},
   "outputs": [],
   "source": [
    "combined = pd.concat([test[\"target\"], pd.Series(predictions, index=test.index)], axis=1)\n",
    "combined.columns = [\"actual\", \"predictions\"]"
   ]
  },
  {
   "cell_type": "code",
   "execution_count": 56,
   "id": "87440138",
   "metadata": {},
   "outputs": [
    {
     "data": {
      "text/html": [
       "<div>\n",
       "<style scoped>\n",
       "    .dataframe tbody tr th:only-of-type {\n",
       "        vertical-align: middle;\n",
       "    }\n",
       "\n",
       "    .dataframe tbody tr th {\n",
       "        vertical-align: top;\n",
       "    }\n",
       "\n",
       "    .dataframe thead th {\n",
       "        text-align: right;\n",
       "    }\n",
       "</style>\n",
       "<table border=\"1\" class=\"dataframe\">\n",
       "  <thead>\n",
       "    <tr style=\"text-align: right;\">\n",
       "      <th></th>\n",
       "      <th>actual</th>\n",
       "      <th>predictions</th>\n",
       "    </tr>\n",
       "    <tr>\n",
       "      <th>DATE</th>\n",
       "      <th></th>\n",
       "      <th></th>\n",
       "    </tr>\n",
       "  </thead>\n",
       "  <tbody>\n",
       "    <tr>\n",
       "      <th>2021-01-01</th>\n",
       "      <td>80.0</td>\n",
       "      <td>80.588770</td>\n",
       "    </tr>\n",
       "    <tr>\n",
       "      <th>2021-01-02</th>\n",
       "      <td>82.0</td>\n",
       "      <td>80.772552</td>\n",
       "    </tr>\n",
       "    <tr>\n",
       "      <th>2021-01-03</th>\n",
       "      <td>82.0</td>\n",
       "      <td>82.581200</td>\n",
       "    </tr>\n",
       "    <tr>\n",
       "      <th>2021-01-04</th>\n",
       "      <td>82.0</td>\n",
       "      <td>82.673092</td>\n",
       "    </tr>\n",
       "    <tr>\n",
       "      <th>2021-01-05</th>\n",
       "      <td>86.0</td>\n",
       "      <td>82.764983</td>\n",
       "    </tr>\n",
       "    <tr>\n",
       "      <th>...</th>\n",
       "      <td>...</td>\n",
       "      <td>...</td>\n",
       "    </tr>\n",
       "    <tr>\n",
       "      <th>2022-12-26</th>\n",
       "      <td>86.0</td>\n",
       "      <td>86.566062</td>\n",
       "    </tr>\n",
       "    <tr>\n",
       "      <th>2022-12-27</th>\n",
       "      <td>91.0</td>\n",
       "      <td>86.566062</td>\n",
       "    </tr>\n",
       "    <tr>\n",
       "      <th>2022-12-28</th>\n",
       "      <td>92.0</td>\n",
       "      <td>91.087685</td>\n",
       "    </tr>\n",
       "    <tr>\n",
       "      <th>2022-12-29</th>\n",
       "      <td>90.0</td>\n",
       "      <td>91.992009</td>\n",
       "    </tr>\n",
       "    <tr>\n",
       "      <th>2022-12-30</th>\n",
       "      <td>89.0</td>\n",
       "      <td>90.183360</td>\n",
       "    </tr>\n",
       "  </tbody>\n",
       "</table>\n",
       "<p>726 rows × 2 columns</p>\n",
       "</div>"
      ],
      "text/plain": [
       "            actual  predictions\n",
       "DATE                           \n",
       "2021-01-01    80.0    80.588770\n",
       "2021-01-02    82.0    80.772552\n",
       "2021-01-03    82.0    82.581200\n",
       "2021-01-04    82.0    82.673092\n",
       "2021-01-05    86.0    82.764983\n",
       "...            ...          ...\n",
       "2022-12-26    86.0    86.566062\n",
       "2022-12-27    91.0    86.566062\n",
       "2022-12-28    92.0    91.087685\n",
       "2022-12-29    90.0    91.992009\n",
       "2022-12-30    89.0    90.183360\n",
       "\n",
       "[726 rows x 2 columns]"
      ]
     },
     "execution_count": 56,
     "metadata": {},
     "output_type": "execute_result"
    }
   ],
   "source": [
    "combined"
   ]
  },
  {
   "cell_type": "code",
   "execution_count": 57,
   "id": "70f4f77d",
   "metadata": {},
   "outputs": [
    {
     "data": {
      "text/plain": [
       "<Axes: xlabel='DATE'>"
      ]
     },
     "execution_count": 57,
     "metadata": {},
     "output_type": "execute_result"
    },
    {
     "data": {
      "image/png": "[encoded data removed]",
      "text/plain": [
       "<Figure size 640x480 with 1 Axes>"
      ]
     },
     "metadata": {},
     "output_type": "display_data"
    }
   ],
   "source": [
    "combined.plot()"
   ]
  },
  {
   "cell_type": "code",
   "execution_count": 58,
   "id": "b83baf30",
   "metadata": {},
   "outputs": [
    {
     "data": {
      "text/plain": [
       "array([-0.15170771,  0.90432448,  0.04594551])"
      ]
     },
     "execution_count": 58,
     "metadata": {},
     "output_type": "execute_result"
    }
   ],
   "source": [
    "reg.coef_"
   ]
  },
  {
   "cell_type": "code",
   "execution_count": 59,
   "id": "3e587c93",
   "metadata": {},
   "outputs": [],
   "source": [
    "core_weather[\"month_max\"] = core_weather[\"temp_max\"].rolling(30).mean()\n",
    "core_weather[\"month_day_max\"] = core_weather[\"month_max\"] / core_weather[\"temp_max\"]\n",
    "core_weather[\"max_min\"] = core_weather[\"temp_max\"] / core_weather[\"temp_min\"]"
   ]
  },
  {
   "cell_type": "code",
   "execution_count": 60,
   "id": "81990e96",
   "metadata": {},
   "outputs": [],
   "source": [
    "core_weather = core_weather.iloc[30:,:].copy()"
   ]
  },
  {
   "cell_type": "code",
   "execution_count": 61,
   "id": "9631c23f",
   "metadata": {},
   "outputs": [],
   "source": [
    "def create_predictions(predictors, core_weather, reg):\n",
    "    train = core_weather.loc[:\"2020-12-31\"]\n",
    "    test = core_weather.loc[\"2021-01-01\":]\n",
    "\n",
    "    reg.fit(train[predictors], train[\"target\"])\n",
    "    predictions = reg.predict(test[predictors])\n",
    "\n",
    "    error = mean_squared_error(test[\"target\"], predictions)\n",
    "    \n",
    "    combined = pd.concat([test[\"target\"], pd.Series(predictions, index=test.index)], axis=1)\n",
    "    combined.columns = [\"actual\", \"predictions\"]\n",
    "    return error, combined"
   ]
  },
  {
   "cell_type": "code",
   "execution_count": 62,
   "id": "e42b280d",
   "metadata": {},
   "outputs": [
    {
     "data": {
      "text/plain": [
       "4.91007333418273"
      ]
     },
     "execution_count": 62,
     "metadata": {},
     "output_type": "execute_result"
    }
   ],
   "source": [
    "predictors = [\"precip\", \"temp_max\", \"temp_min\", \"month_day_max\", \"max_min\"]\n",
    "\n",
    "error, combined = create_predictions(predictors, core_weather, reg)\n",
    "error"
   ]
  },
  {
   "cell_type": "code",
   "execution_count": 63,
   "id": "a577ecdd",
   "metadata": {},
   "outputs": [
    {
     "data": {
      "text/plain": [
       "<Axes: xlabel='DATE'>"
      ]
     },
     "execution_count": 63,
     "metadata": {},
     "output_type": "execute_result"
    },
    {
     "data": {
      "image/png": "[encoded data removed]",
      "text/plain": [
       "<Figure size 640x480 with 1 Axes>"
      ]
     },
     "metadata": {},
     "output_type": "display_data"
    }
   ],
   "source": [
    "combined.plot()"
   ]
  },
  {
   "cell_type": "code",
   "execution_count": 66,
   "id": "3f9772f4",
   "metadata": {},
   "outputs": [
    {
     "data": {
      "text/plain": [
       "array([-0.32821322,  0.93413571,  0.04874268, 10.78696096,  1.63802518])"
      ]
     },
     "execution_count": 66,
     "metadata": {},
     "output_type": "execute_result"
    }
   ],
   "source": [
    "reg.coef_"
   ]
  },
  {
   "cell_type": "code",
   "execution_count": 67,
   "id": "7f0a24ff",
   "metadata": {},
   "outputs": [
    {
     "data": {
      "text/plain": [
       "precip          -0.148214\n",
       "temp_avg         0.860021\n",
       "temp_max         0.933389\n",
       "temp_min         0.578097\n",
       "target           1.000000\n",
       "month_max        0.784098\n",
       "month_day_max   -0.418932\n",
       "max_min          0.135506\n",
       "Name: target, dtype: float64"
      ]
     },
     "execution_count": 67,
     "metadata": {},
     "output_type": "execute_result"
    }
   ],
   "source": [
    "core_weather.corr()[\"target\"]\n"
   ]
  },
  {
   "cell_type": "code",
   "execution_count": 68,
   "id": "0d74248e",
   "metadata": {},
   "outputs": [],
   "source": [
    "combined[\"diff\"] = (combined[\"actual\"] - combined[\"predictions\"]).abs()"
   ]
  },
  {
   "cell_type": "code",
   "execution_count": 69,
   "id": "d1a4ab1c",
   "metadata": {},
   "outputs": [
    {
     "data": {
      "text/html": [
       "<div>\n",
       "<style scoped>\n",
       "    .dataframe tbody tr th:only-of-type {\n",
       "        vertical-align: middle;\n",
       "    }\n",
       "\n",
       "    .dataframe tbody tr th {\n",
       "        vertical-align: top;\n",
       "    }\n",
       "\n",
       "    .dataframe thead th {\n",
       "        text-align: right;\n",
       "    }\n",
       "</style>\n",
       "<table border=\"1\" class=\"dataframe\">\n",
       "  <thead>\n",
       "    <tr style=\"text-align: right;\">\n",
       "      <th></th>\n",
       "      <th>actual</th>\n",
       "      <th>predictions</th>\n",
       "      <th>diff</th>\n",
       "    </tr>\n",
       "    <tr>\n",
       "      <th>DATE</th>\n",
       "      <th></th>\n",
       "      <th></th>\n",
       "      <th></th>\n",
       "    </tr>\n",
       "  </thead>\n",
       "  <tbody>\n",
       "    <tr>\n",
       "      <th>2021-08-16</th>\n",
       "      <td>80.0</td>\n",
       "      <td>90.686626</td>\n",
       "      <td>10.686626</td>\n",
       "    </tr>\n",
       "    <tr>\n",
       "      <th>2021-07-25</th>\n",
       "      <td>89.0</td>\n",
       "      <td>78.476535</td>\n",
       "      <td>10.523465</td>\n",
       "    </tr>\n",
       "    <tr>\n",
       "      <th>2021-02-24</th>\n",
       "      <td>93.0</td>\n",
       "      <td>83.063507</td>\n",
       "      <td>9.936493</td>\n",
       "    </tr>\n",
       "    <tr>\n",
       "      <th>2022-07-08</th>\n",
       "      <td>78.0</td>\n",
       "      <td>87.211121</td>\n",
       "      <td>9.211121</td>\n",
       "    </tr>\n",
       "    <tr>\n",
       "      <th>2022-05-11</th>\n",
       "      <td>92.0</td>\n",
       "      <td>101.089741</td>\n",
       "      <td>9.089741</td>\n",
       "    </tr>\n",
       "    <tr>\n",
       "      <th>2021-07-21</th>\n",
       "      <td>76.0</td>\n",
       "      <td>85.055197</td>\n",
       "      <td>9.055197</td>\n",
       "    </tr>\n",
       "    <tr>\n",
       "      <th>2022-08-15</th>\n",
       "      <td>90.0</td>\n",
       "      <td>81.521575</td>\n",
       "      <td>8.478425</td>\n",
       "    </tr>\n",
       "    <tr>\n",
       "      <th>2021-07-09</th>\n",
       "      <td>89.0</td>\n",
       "      <td>97.107325</td>\n",
       "      <td>8.107325</td>\n",
       "    </tr>\n",
       "    <tr>\n",
       "      <th>2022-10-18</th>\n",
       "      <td>91.0</td>\n",
       "      <td>82.980933</td>\n",
       "      <td>8.019067</td>\n",
       "    </tr>\n",
       "    <tr>\n",
       "      <th>2021-11-23</th>\n",
       "      <td>90.0</td>\n",
       "      <td>82.104813</td>\n",
       "      <td>7.895187</td>\n",
       "    </tr>\n",
       "  </tbody>\n",
       "</table>\n",
       "</div>"
      ],
      "text/plain": [
       "            actual  predictions       diff\n",
       "DATE                                      \n",
       "2021-08-16    80.0    90.686626  10.686626\n",
       "2021-07-25    89.0    78.476535  10.523465\n",
       "2021-02-24    93.0    83.063507   9.936493\n",
       "2022-07-08    78.0    87.211121   9.211121\n",
       "2022-05-11    92.0   101.089741   9.089741\n",
       "2021-07-21    76.0    85.055197   9.055197\n",
       "2022-08-15    90.0    81.521575   8.478425\n",
       "2021-07-09    89.0    97.107325   8.107325\n",
       "2022-10-18    91.0    82.980933   8.019067\n",
       "2021-11-23    90.0    82.104813   7.895187"
      ]
     },
     "execution_count": 69,
     "metadata": {},
     "output_type": "execute_result"
    }
   ],
   "source": [
    "combined.sort_values(\"diff\", ascending=False).head(10)"
   ]
  },
  {
   "cell_type": "code",
   "execution_count": 70,
   "id": "4a4ae489",
   "metadata": {},
   "outputs": [],
   "source": [
    "test = core_weather.loc[\"2021-06-06\"]"
   ]
  },
  {
   "cell_type": "code",
   "execution_count": 71,
   "id": "e6d19af3",
   "metadata": {},
   "outputs": [
    {
     "data": {
      "text/plain": [
       "precip            0.510000\n",
       "temp_avg         84.000000\n",
       "temp_max         94.000000\n",
       "temp_min         74.000000\n",
       "target           94.000000\n",
       "month_max        99.300000\n",
       "month_day_max     1.056383\n",
       "max_min           1.270270\n",
       "Name: 2021-06-06 00:00:00, dtype: float64"
      ]
     },
     "execution_count": 71,
     "metadata": {},
     "output_type": "execute_result"
    }
   ],
   "source": [
    "test"
   ]
  },
  {
   "cell_type": "code",
   "execution_count": 74,
   "id": "53fdf510",
   "metadata": {},
   "outputs": [
    {
     "data": {
      "text/html": [
       "<div>\n",
       "<style scoped>\n",
       "    .dataframe tbody tr th:only-of-type {\n",
       "        vertical-align: middle;\n",
       "    }\n",
       "\n",
       "    .dataframe tbody tr th {\n",
       "        vertical-align: top;\n",
       "    }\n",
       "\n",
       "    .dataframe thead th {\n",
       "        text-align: right;\n",
       "    }\n",
       "</style>\n",
       "<table border=\"1\" class=\"dataframe\">\n",
       "  <thead>\n",
       "    <tr style=\"text-align: right;\">\n",
       "      <th></th>\n",
       "      <th>actual</th>\n",
       "      <th>predictions</th>\n",
       "      <th>diff</th>\n",
       "    </tr>\n",
       "    <tr>\n",
       "      <th>DATE</th>\n",
       "      <th></th>\n",
       "      <th></th>\n",
       "      <th></th>\n",
       "    </tr>\n",
       "  </thead>\n",
       "  <tbody>\n",
       "    <tr>\n",
       "      <th>2021-01-01</th>\n",
       "      <td>80.0</td>\n",
       "      <td>80.993999</td>\n",
       "      <td>0.993999</td>\n",
       "    </tr>\n",
       "    <tr>\n",
       "      <th>2021-01-02</th>\n",
       "      <td>82.0</td>\n",
       "      <td>81.011743</td>\n",
       "      <td>0.988257</td>\n",
       "    </tr>\n",
       "    <tr>\n",
       "      <th>2021-01-03</th>\n",
       "      <td>82.0</td>\n",
       "      <td>82.635884</td>\n",
       "      <td>0.635884</td>\n",
       "    </tr>\n",
       "    <tr>\n",
       "      <th>2021-01-04</th>\n",
       "      <td>82.0</td>\n",
       "      <td>82.652514</td>\n",
       "      <td>0.652514</td>\n",
       "    </tr>\n",
       "    <tr>\n",
       "      <th>2021-01-05</th>\n",
       "      <td>86.0</td>\n",
       "      <td>82.664477</td>\n",
       "      <td>3.335523</td>\n",
       "    </tr>\n",
       "    <tr>\n",
       "      <th>...</th>\n",
       "      <td>...</td>\n",
       "      <td>...</td>\n",
       "      <td>...</td>\n",
       "    </tr>\n",
       "    <tr>\n",
       "      <th>2022-12-26</th>\n",
       "      <td>86.0</td>\n",
       "      <td>86.156220</td>\n",
       "      <td>0.156220</td>\n",
       "    </tr>\n",
       "    <tr>\n",
       "      <th>2022-12-27</th>\n",
       "      <td>91.0</td>\n",
       "      <td>86.147858</td>\n",
       "      <td>4.852142</td>\n",
       "    </tr>\n",
       "    <tr>\n",
       "      <th>2022-12-28</th>\n",
       "      <td>92.0</td>\n",
       "      <td>90.359526</td>\n",
       "      <td>1.640474</td>\n",
       "    </tr>\n",
       "    <tr>\n",
       "      <th>2022-12-29</th>\n",
       "      <td>90.0</td>\n",
       "      <td>91.222661</td>\n",
       "      <td>1.222661</td>\n",
       "    </tr>\n",
       "    <tr>\n",
       "      <th>2022-12-30</th>\n",
       "      <td>89.0</td>\n",
       "      <td>89.542435</td>\n",
       "      <td>0.542435</td>\n",
       "    </tr>\n",
       "  </tbody>\n",
       "</table>\n",
       "<p>726 rows × 3 columns</p>\n",
       "</div>"
      ],
      "text/plain": [
       "            actual  predictions      diff\n",
       "DATE                                     \n",
       "2021-01-01    80.0    80.993999  0.993999\n",
       "2021-01-02    82.0    81.011743  0.988257\n",
       "2021-01-03    82.0    82.635884  0.635884\n",
       "2021-01-04    82.0    82.652514  0.652514\n",
       "2021-01-05    86.0    82.664477  3.335523\n",
       "...            ...          ...       ...\n",
       "2022-12-26    86.0    86.156220  0.156220\n",
       "2022-12-27    91.0    86.147858  4.852142\n",
       "2022-12-28    92.0    90.359526  1.640474\n",
       "2022-12-29    90.0    91.222661  1.222661\n",
       "2022-12-30    89.0    89.542435  0.542435\n",
       "\n",
       "[726 rows x 3 columns]"
      ]
     },
     "execution_count": 74,
     "metadata": {},
     "output_type": "execute_result"
    }
   ],
   "source": [
    "combined"
   ]
  },
  {
   "cell_type": "code",
   "execution_count": null,
   "id": "72f7bbdb",
   "metadata": {},
   "outputs": [],
   "source": []
  }
 ],
 "metadata": {
  "kernelspec": {
   "display_name": "Python 3 (ipykernel)",
   "language": "python",
   "name": "python3"
  },
  "language_info": {
   "codemirror_mode": {
    "name": "ipython",
    "version": 3
   },
   "file_extension": ".py",
   "mimetype": "text/x-python",
   "name": "python",
   "nbconvert_exporter": "python",
   "pygments_lexer": "ipython3",
   "version": "3.11.5"
  }
 },
 "nbformat": 4,
 "nbformat_minor": 5
}
